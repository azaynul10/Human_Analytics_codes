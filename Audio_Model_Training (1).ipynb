{
  "cells": [
    {
      "cell_type": "code",
      "execution_count": null,
      "metadata": {
        "colab": {
          "base_uri": "https://localhost:8080/",
          "height": 425
        },
        "id": "6ah5TukQKgXM",
        "outputId": "a782b6e2-4ecc-4456-e80c-a484c9aa2ea0"
      },
      "outputs": [
        {
          "name": "stdout",
          "output_type": "stream",
          "text": [
            "Collecting scikit-learn==1.1.3\n",
            "  Using cached scikit_learn-1.1.3-cp311-cp311-manylinux_2_17_x86_64.manylinux2014_x86_64.whl.metadata (10 kB)\n",
            "Requirement already satisfied: numpy>=1.17.3 in /usr/local/lib/python3.11/dist-packages (from scikit-learn==1.1.3) (1.26.4)\n",
            "Requirement already satisfied: scipy>=1.3.2 in /usr/local/lib/python3.11/dist-packages (from scikit-learn==1.1.3) (1.13.1)\n",
            "Requirement already satisfied: joblib>=1.0.0 in /usr/local/lib/python3.11/dist-packages (from scikit-learn==1.1.3) (1.4.2)\n",
            "Requirement already satisfied: threadpoolctl>=2.0.0 in /usr/local/lib/python3.11/dist-packages (from scikit-learn==1.1.3) (3.5.0)\n",
            "Using cached scikit_learn-1.1.3-cp311-cp311-manylinux_2_17_x86_64.manylinux2014_x86_64.whl (32.0 MB)\n",
            "Installing collected packages: scikit-learn\n",
            "  Attempting uninstall: scikit-learn\n",
            "    Found existing installation: scikit-learn 1.6.1\n",
            "    Uninstalling scikit-learn-1.6.1:\n",
            "      Successfully uninstalled scikit-learn-1.6.1\n",
            "\u001b[31mERROR: pip's dependency resolver does not currently take into account all the packages that are installed. This behaviour is the source of the following dependency conflicts.\n",
            "imbalanced-learn 0.13.0 requires scikit-learn<2,>=1.3.2, but you have scikit-learn 1.1.3 which is incompatible.\n",
            "bigframes 1.35.0 requires scikit-learn>=1.2.2, but you have scikit-learn 1.1.3 which is incompatible.\n",
            "sklearn-compat 0.1.3 requires scikit-learn<1.7,>=1.2, but you have scikit-learn 1.1.3 which is incompatible.\n",
            "mlxtend 0.23.4 requires scikit-learn>=1.3.1, but you have scikit-learn 1.1.3 which is incompatible.\u001b[0m\u001b[31m\n",
            "\u001b[0mSuccessfully installed scikit-learn-1.1.3\n"
          ]
        },
        {
          "data": {
            "application/vnd.colab-display-data+json": {
              "id": "472d8962d59646c0954b7570941c6d26",
              "pip_warning": {
                "packages": [
                  "sklearn"
                ]
              }
            }
          },
          "metadata": {},
          "output_type": "display_data"
        }
      ],
      "source": [
        "!pip install scikit-learn==1.1.3\n"
      ]
    },
    {
      "cell_type": "code",
      "execution_count": 1,
      "metadata": {
        "colab": {
          "base_uri": "https://localhost:8080/"
        },
        "id": "q-I0NUL3updV",
        "outputId": "a5c1353b-b7e2-43cd-dcdc-5edc2f5d74da"
      },
      "outputs": [
        {
          "output_type": "stream",
          "name": "stdout",
          "text": [
            "Mounted at /content/drive\n"
          ]
        }
      ],
      "source": [
        "from google.colab import drive\n",
        "drive.mount('/content/drive')\n"
      ]
    },
    {
      "cell_type": "code",
      "source": [
        "!pip uninstall -y xgboost\n",
        "!pip install xgboost==1.7.5\n"
      ],
      "metadata": {
        "colab": {
          "base_uri": "https://localhost:8080/",
          "height": 317
        },
        "id": "Ce3FE7MXpyI-",
        "outputId": "43ddbb25-c1e5-433b-b29e-b30bf95b0ed0"
      },
      "execution_count": 6,
      "outputs": [
        {
          "output_type": "stream",
          "name": "stdout",
          "text": [
            "Found existing installation: xgboost 2.1.3\n",
            "Uninstalling xgboost-2.1.3:\n",
            "  Successfully uninstalled xgboost-2.1.3\n",
            "Collecting xgboost==1.7.5\n",
            "  Downloading xgboost-1.7.5-py3-none-manylinux2014_x86_64.whl.metadata (1.9 kB)\n",
            "Requirement already satisfied: numpy in /usr/local/lib/python3.11/dist-packages (from xgboost==1.7.5) (1.26.4)\n",
            "Requirement already satisfied: scipy in /usr/local/lib/python3.11/dist-packages (from xgboost==1.7.5) (1.13.1)\n",
            "Downloading xgboost-1.7.5-py3-none-manylinux2014_x86_64.whl (200.3 MB)\n",
            "\u001b[2K   \u001b[90m━━━━━━━━━━━━━━━━━━━━━━━━━━━━━━━━━━━━━━━━\u001b[0m \u001b[32m200.3/200.3 MB\u001b[0m \u001b[31m9.9 MB/s\u001b[0m eta \u001b[36m0:00:00\u001b[0m\n",
            "\u001b[?25hInstalling collected packages: xgboost\n",
            "Successfully installed xgboost-1.7.5\n"
          ]
        },
        {
          "output_type": "display_data",
          "data": {
            "application/vnd.colab-display-data+json": {
              "pip_warning": {
                "packages": [
                  "xgboost"
                ]
              },
              "id": "55c50a247ec442f6835b3df7bf1f01a7"
            }
          },
          "metadata": {}
        }
      ]
    },
    {
      "cell_type": "code",
      "execution_count": 1,
      "metadata": {
        "id": "lCGTY_he1x7J"
      },
      "outputs": [],
      "source": [
        "DATADIR = '/content/drive/MyDrive/fan/id_00'"
      ]
    },
    {
      "cell_type": "code",
      "execution_count": null,
      "metadata": {
        "colab": {
          "base_uri": "https://localhost:8080/"
        },
        "id": "dLZG_mie17Jo",
        "outputId": "a1c508bd-1386-45b5-b16e-9f75979bff55"
      },
      "outputs": [
        {
          "name": "stdout",
          "output_type": "stream",
          "text": [
            "Requirement already satisfied: librosa in /usr/local/lib/python3.11/dist-packages (0.10.2.post1)\n",
            "Requirement already satisfied: scikit-learn in /usr/local/lib/python3.11/dist-packages (1.6.1)\n",
            "Requirement already satisfied: numpy in /usr/local/lib/python3.11/dist-packages (1.26.4)\n",
            "Requirement already satisfied: pandas in /usr/local/lib/python3.11/dist-packages (2.2.2)\n",
            "Requirement already satisfied: seaborn in /usr/local/lib/python3.11/dist-packages (0.13.2)\n",
            "Requirement already satisfied: matplotlib in /usr/local/lib/python3.11/dist-packages (3.10.0)\n",
            "Collecting lime\n",
            "  Downloading lime-0.2.0.1.tar.gz (275 kB)\n",
            "\u001b[2K     \u001b[90m━━━━━━━━━━━━━━━━━━━━━━━━━━━━━━━━━━━━━━━━\u001b[0m \u001b[32m275.7/275.7 kB\u001b[0m \u001b[31m3.0 MB/s\u001b[0m eta \u001b[36m0:00:00\u001b[0m\n",
            "\u001b[?25h  Preparing metadata (setup.py) ... \u001b[?25l\u001b[?25hdone\n",
            "Requirement already satisfied: xgboost in /usr/local/lib/python3.11/dist-packages (2.1.3)\n",
            "Requirement already satisfied: audioread>=2.1.9 in /usr/local/lib/python3.11/dist-packages (from librosa) (3.0.1)\n",
            "Requirement already satisfied: scipy>=1.2.0 in /usr/local/lib/python3.11/dist-packages (from librosa) (1.13.1)\n",
            "Requirement already satisfied: joblib>=0.14 in /usr/local/lib/python3.11/dist-packages (from librosa) (1.4.2)\n",
            "Requirement already satisfied: decorator>=4.3.0 in /usr/local/lib/python3.11/dist-packages (from librosa) (4.4.2)\n",
            "Requirement already satisfied: numba>=0.51.0 in /usr/local/lib/python3.11/dist-packages (from librosa) (0.61.0)\n",
            "Requirement already satisfied: soundfile>=0.12.1 in /usr/local/lib/python3.11/dist-packages (from librosa) (0.13.1)\n",
            "Requirement already satisfied: pooch>=1.1 in /usr/local/lib/python3.11/dist-packages (from librosa) (1.8.2)\n",
            "Requirement already satisfied: soxr>=0.3.2 in /usr/local/lib/python3.11/dist-packages (from librosa) (0.5.0.post1)\n",
            "Requirement already satisfied: typing-extensions>=4.1.1 in /usr/local/lib/python3.11/dist-packages (from librosa) (4.12.2)\n",
            "Requirement already satisfied: lazy-loader>=0.1 in /usr/local/lib/python3.11/dist-packages (from librosa) (0.4)\n",
            "Requirement already satisfied: msgpack>=1.0 in /usr/local/lib/python3.11/dist-packages (from librosa) (1.1.0)\n",
            "Requirement already satisfied: threadpoolctl>=3.1.0 in /usr/local/lib/python3.11/dist-packages (from scikit-learn) (3.5.0)\n",
            "Requirement already satisfied: python-dateutil>=2.8.2 in /usr/local/lib/python3.11/dist-packages (from pandas) (2.8.2)\n",
            "Requirement already satisfied: pytz>=2020.1 in /usr/local/lib/python3.11/dist-packages (from pandas) (2025.1)\n",
            "Requirement already satisfied: tzdata>=2022.7 in /usr/local/lib/python3.11/dist-packages (from pandas) (2025.1)\n",
            "Requirement already satisfied: contourpy>=1.0.1 in /usr/local/lib/python3.11/dist-packages (from matplotlib) (1.3.1)\n",
            "Requirement already satisfied: cycler>=0.10 in /usr/local/lib/python3.11/dist-packages (from matplotlib) (0.12.1)\n",
            "Requirement already satisfied: fonttools>=4.22.0 in /usr/local/lib/python3.11/dist-packages (from matplotlib) (4.55.8)\n",
            "Requirement already satisfied: kiwisolver>=1.3.1 in /usr/local/lib/python3.11/dist-packages (from matplotlib) (1.4.8)\n",
            "Requirement already satisfied: packaging>=20.0 in /usr/local/lib/python3.11/dist-packages (from matplotlib) (24.2)\n",
            "Requirement already satisfied: pillow>=8 in /usr/local/lib/python3.11/dist-packages (from matplotlib) (11.1.0)\n",
            "Requirement already satisfied: pyparsing>=2.3.1 in /usr/local/lib/python3.11/dist-packages (from matplotlib) (3.2.1)\n",
            "Requirement already satisfied: tqdm in /usr/local/lib/python3.11/dist-packages (from lime) (4.67.1)\n",
            "Requirement already satisfied: scikit-image>=0.12 in /usr/local/lib/python3.11/dist-packages (from lime) (0.25.1)\n",
            "Requirement already satisfied: nvidia-nccl-cu12 in /usr/local/lib/python3.11/dist-packages (from xgboost) (2.21.5)\n",
            "Requirement already satisfied: llvmlite<0.45,>=0.44.0dev0 in /usr/local/lib/python3.11/dist-packages (from numba>=0.51.0->librosa) (0.44.0)\n",
            "Requirement already satisfied: platformdirs>=2.5.0 in /usr/local/lib/python3.11/dist-packages (from pooch>=1.1->librosa) (4.3.6)\n",
            "Requirement already satisfied: requests>=2.19.0 in /usr/local/lib/python3.11/dist-packages (from pooch>=1.1->librosa) (2.32.3)\n",
            "Requirement already satisfied: six>=1.5 in /usr/local/lib/python3.11/dist-packages (from python-dateutil>=2.8.2->pandas) (1.17.0)\n",
            "Requirement already satisfied: networkx>=3.0 in /usr/local/lib/python3.11/dist-packages (from scikit-image>=0.12->lime) (3.4.2)\n",
            "Requirement already satisfied: imageio!=2.35.0,>=2.33 in /usr/local/lib/python3.11/dist-packages (from scikit-image>=0.12->lime) (2.37.0)\n",
            "Requirement already satisfied: tifffile>=2022.8.12 in /usr/local/lib/python3.11/dist-packages (from scikit-image>=0.12->lime) (2025.1.10)\n",
            "Requirement already satisfied: cffi>=1.0 in /usr/local/lib/python3.11/dist-packages (from soundfile>=0.12.1->librosa) (1.17.1)\n",
            "Requirement already satisfied: pycparser in /usr/local/lib/python3.11/dist-packages (from cffi>=1.0->soundfile>=0.12.1->librosa) (2.22)\n",
            "Requirement already satisfied: charset-normalizer<4,>=2 in /usr/local/lib/python3.11/dist-packages (from requests>=2.19.0->pooch>=1.1->librosa) (3.4.1)\n",
            "Requirement already satisfied: idna<4,>=2.5 in /usr/local/lib/python3.11/dist-packages (from requests>=2.19.0->pooch>=1.1->librosa) (3.10)\n",
            "Requirement already satisfied: urllib3<3,>=1.21.1 in /usr/local/lib/python3.11/dist-packages (from requests>=2.19.0->pooch>=1.1->librosa) (2.3.0)\n",
            "Requirement already satisfied: certifi>=2017.4.17 in /usr/local/lib/python3.11/dist-packages (from requests>=2.19.0->pooch>=1.1->librosa) (2025.1.31)\n",
            "Building wheels for collected packages: lime\n",
            "  Building wheel for lime (setup.py) ... \u001b[?25l\u001b[?25hdone\n",
            "  Created wheel for lime: filename=lime-0.2.0.1-py3-none-any.whl size=283834 sha256=ba8d015e8ef5d6ff3a769c503150c657852fcf718f27209e89e6ce3e7c744fb5\n",
            "  Stored in directory: /root/.cache/pip/wheels/85/fa/a3/9c2d44c9f3cd77cf4e533b58900b2bf4487f2a17e8ec212a3d\n",
            "Successfully built lime\n",
            "Installing collected packages: lime\n",
            "Successfully installed lime-0.2.0.1\n"
          ]
        }
      ],
      "source": [
        "!pip install librosa numpy pandas seaborn matplotlib lime xgboost\n"
      ]
    },
    {
      "cell_type": "code",
      "execution_count": 2,
      "metadata": {
        "id": "0CdOO1xK2AhQ"
      },
      "outputs": [],
      "source": [
        "feature_names = [\n",
        "    'mean', 'median', 'variance', 'std_dev', 'skewness', 'kurt', 'zero_cross_rate',\n",
        "    'num_waves', 'wave_duration', 'inst_freq', 'mobility', 'activity', 'complexity', 'k_complex', 'energy',\n",
        "    'mean_freq', 'median_freq', 'variance_freq', 'std_dev_freq', 'skewness_freq', 'kurt_freq',\n",
        "    'delta', 'theta', 'alpha', 'beta', 'gamma', 'sigma', 'zero_a', 'b_a'\n",
        "]\n",
        "assert len(feature_names) == 29, \"Number of feature names does not match\""
      ]
    },
    {
      "cell_type": "code",
      "execution_count": 3,
      "metadata": {
        "id": "8flbQQdN57ec",
        "colab": {
          "base_uri": "https://localhost:8080/"
        },
        "outputId": "9663b87a-6ca1-4847-920a-8b2f0e84e203"
      },
      "outputs": [
        {
          "output_type": "stream",
          "name": "stdout",
          "text": [
            "Augmented Features shape: (620, 110)\n",
            "Augmented Labels shape: (620,)\n"
          ]
        }
      ],
      "source": [
        "import os\n",
        "import librosa\n",
        "import numpy as np\n",
        "from scipy.stats import skew, kurtosis\n",
        "\n",
        "DATADIR = '/content/drive/MyDrive/fan/id_00'\n",
        "CATEGORIES = ['abnormal', 'normal']\n",
        "\n",
        "def augment_audio(audio):\n",
        "\n",
        "\n",
        "    noise = np.random.normal(0, 0.005, len(audio))\n",
        "    audio_noise = audio + noise\n",
        "\n",
        "\n",
        "    try:\n",
        "        audio_stretch = librosa.effects.time_stretch(audio, rate=0.8)\n",
        "    except Exception as e:\n",
        "        print(\"Time stretch error:\", e)\n",
        "        audio_stretch = audio\n",
        "\n",
        "\n",
        "    try:\n",
        "        audio_pitch = librosa.effects.pitch_shift(audio, sr=22050, n_steps=2)\n",
        "    except Exception as e:\n",
        "        print(\"Pitch shift error:\", e)\n",
        "        audio_pitch = audio\n",
        "\n",
        "    return [audio_noise, audio_stretch, audio_pitch]\n",
        "\n",
        "def extract_features_from_audio_advanced(audio, sr):\n",
        "\n",
        "\n",
        "    mfccs = librosa.feature.mfcc(y=audio, sr=sr, n_mfcc=13)\n",
        "    mfccs_mean = np.mean(mfccs, axis=1)\n",
        "    mfccs_std = np.std(mfccs, axis=1)\n",
        "    mfccs_skew = skew(mfccs, axis=1)\n",
        "    mfccs_kurtosis = kurtosis(mfccs, axis=1)\n",
        "\n",
        "\n",
        "    delta_mfccs = librosa.feature.delta(mfccs)\n",
        "    delta2_mfccs = librosa.feature.delta(mfccs, order=2)\n",
        "    delta_mfccs_mean = np.mean(delta_mfccs, axis=1)\n",
        "    delta2_mfccs_mean = np.mean(delta2_mfccs, axis=1)\n",
        "\n",
        "\n",
        "    spec_centroid = np.mean(librosa.feature.spectral_centroid(y=audio, sr=sr))\n",
        "    spec_rolloff = np.mean(librosa.feature.spectral_rolloff(y=audio, sr=sr))\n",
        "    spec_contrast = np.mean(librosa.feature.spectral_contrast(y=audio, sr=sr), axis=1)\n",
        "\n",
        "\n",
        "    zcr = np.mean(librosa.feature.zero_crossing_rate(audio))\n",
        "    zcr_std = np.std(librosa.feature.zero_crossing_rate(audio))\n",
        "\n",
        "\n",
        "    chroma = np.mean(librosa.feature.chroma_stft(y=audio, sr=sr), axis=1)\n",
        "\n",
        "\n",
        "    y_harmonic = librosa.effects.harmonic(audio)\n",
        "    tonnetz = np.mean(librosa.feature.tonnetz(y=y_harmonic, sr=sr), axis=1)\n",
        "\n",
        "\n",
        "    rmse = np.mean(librosa.feature.rms(y=audio))\n",
        "\n",
        "\n",
        "    flatness = np.mean(librosa.feature.spectral_flatness(y=audio))\n",
        "\n",
        "\n",
        "    ste = np.mean(audio ** 2)\n",
        "\n",
        "\n",
        "    features = np.hstack([\n",
        "        mfccs_mean,\n",
        "        mfccs_std,\n",
        "        mfccs_skew,\n",
        "        mfccs_kurtosis,\n",
        "        delta_mfccs_mean,\n",
        "        delta2_mfccs_mean,\n",
        "        spec_centroid,\n",
        "        spec_rolloff,\n",
        "        spec_contrast,\n",
        "        zcr,\n",
        "        zcr_std,\n",
        "        chroma,\n",
        "        tonnetz,\n",
        "        rmse,\n",
        "        flatness,\n",
        "        ste\n",
        "    ])\n",
        "    return features\n",
        "\n",
        "def extract_features_and_labels_with_augmentation(data_dir):\n",
        "\n",
        "    features_list = []\n",
        "    labels_list = []\n",
        "\n",
        "    for category in CATEGORIES:\n",
        "        category_path = os.path.join(data_dir, category)\n",
        "        label = 1 if category == 'abnormal' else 0\n",
        "\n",
        "        for file in os.listdir(category_path):\n",
        "            if file.endswith('.wav'):\n",
        "                file_path = os.path.join(category_path, file)\n",
        "                try:\n",
        "\n",
        "                    audio, sr = librosa.load(file_path, sr=22050)\n",
        "\n",
        "\n",
        "                    features_original = extract_features_from_audio_advanced(audio, sr)\n",
        "                    features_list.append(features_original)\n",
        "                    labels_list.append(label)\n",
        "\n",
        "\n",
        "                    augmented_audios = augment_audio(audio)\n",
        "                    for aug_audio in augmented_audios:\n",
        "                        features_aug = extract_features_from_audio_advanced(aug_audio, sr)\n",
        "                        features_list.append(features_aug)\n",
        "                        labels_list.append(label)\n",
        "\n",
        "                except Exception as e:\n",
        "                    print(f\"Error processing {file_path}: {e}\")\n",
        "\n",
        "    return np.array(features_list), np.array(labels_list)\n",
        "\n",
        "X_aug, y_aug = extract_features_and_labels_with_augmentation(DATADIR)\n",
        "\n",
        "print(\"Augmented Features shape:\", X_aug.shape)\n",
        "print(\"Augmented Labels shape:\", y_aug.shape)\n"
      ]
    },
    {
      "cell_type": "code",
      "source": [
        "unique_train, counts_train = np.unique(y_train, return_counts=True)\n",
        "unique_test, counts_test = np.unique(y_test, return_counts=True)\n",
        "print(\"Training set distribution:\", dict(zip(unique_train, counts_train)))\n",
        "print(\"Test set distribution:\", dict(zip(unique_test, counts_test)))\n"
      ],
      "metadata": {
        "colab": {
          "base_uri": "https://localhost:8080/"
        },
        "id": "tr7RHjY1SSto",
        "outputId": "13ca6596-d443-4e3c-889a-051954144bf5"
      },
      "execution_count": 17,
      "outputs": [
        {
          "output_type": "stream",
          "name": "stdout",
          "text": [
            "Training set distribution: {0: 107, 1: 389}\n",
            "Test set distribution: {0: 29, 1: 95}\n"
          ]
        }
      ]
    },
    {
      "cell_type": "code",
      "source": [
        "np.save('/content/drive/MyDrive/fan/X_aug.npy', X_aug)\n",
        "np.save('/content/drive/MyDrive/fan/y_aug.npy', y_aug)\n"
      ],
      "metadata": {
        "id": "Ai6h_hZKS_g8"
      },
      "execution_count": 18,
      "outputs": []
    },
    {
      "cell_type": "code",
      "source": [
        "import joblib\n",
        "\n",
        "joblib.dump(best_model, '/content/drive/MyDrive/fan/best_xgb_model.pkl')\n"
      ],
      "metadata": {
        "colab": {
          "base_uri": "https://localhost:8080/"
        },
        "id": "GtIRrNzxTFSv",
        "outputId": "fed3d61f-6633-4ebc-c999-3db23dc03f9d"
      },
      "execution_count": 19,
      "outputs": [
        {
          "output_type": "execute_result",
          "data": {
            "text/plain": [
              "['/content/drive/MyDrive/fan/best_xgb_model.pkl']"
            ]
          },
          "metadata": {},
          "execution_count": 19
        }
      ]
    },
    {
      "cell_type": "code",
      "source": [
        "results = {\n",
        "    'Best Parameters': random_search.best_params_,\n",
        "    'Best CV Accuracy': random_search.best_score_,\n",
        "    'Test Accuracy': test_accuracy,\n",
        "    'Classification Report': classification_report(y_test, y_pred)\n",
        "}\n",
        "\n",
        "import json\n",
        "with open('/content/drive/MyDrive/fan/experiment_results.json', 'w') as f:\n",
        "    json.dump(results, f, indent=4)\n"
      ],
      "metadata": {
        "id": "szc2z60MTLzI"
      },
      "execution_count": 20,
      "outputs": []
    },
    {
      "cell_type": "code",
      "execution_count": 21,
      "metadata": {
        "id": "ZRJs0bht_4kO"
      },
      "outputs": [],
      "source": [
        "from xgboost import XGBClassifier\n",
        "from sklearn.base import BaseEstimator, ClassifierMixin\n",
        "\n",
        "class SklearnXGBClassifier(XGBClassifier, BaseEstimator, ClassifierMixin):\n",
        "    def __sklearn_tags__(self):\n",
        "        return {\"binary_only\": True}\n",
        "\n",
        "xgb_model = SklearnXGBClassifier(use_label_encoder=False, eval_metric='logloss',\n",
        "                                 scale_pos_weight=scale_pos_weight)\n"
      ]
    },
    {
      "cell_type": "code",
      "execution_count": 22,
      "metadata": {
        "colab": {
          "base_uri": "https://localhost:8080/"
        },
        "id": "UUh-O0cy_97t",
        "outputId": "6b06f87b-5e82-4b0b-deab-fd740a382b53"
      },
      "outputs": [
        {
          "output_type": "stream",
          "name": "stdout",
          "text": [
            "Calculated scale_pos_weight: 0.28\n",
            "Best Parameters (Randomized): {'subsample': 0.8, 'reg_lambda': 2, 'reg_alpha': 0, 'n_estimators': 300, 'min_child_weight': 1, 'max_depth': 7, 'learning_rate': 0.2, 'gamma': 0, 'colsample_bytree': 0.8}\n",
            "Best CV Accuracy (Randomized): 0.9274343434343434\n",
            "Test Set Accuracy: 0.9193548387096774\n",
            "\n",
            "Classification Report:\n",
            "               precision    recall  f1-score   support\n",
            "\n",
            "           0       0.88      0.76      0.81        29\n",
            "           1       0.93      0.97      0.95        95\n",
            "\n",
            "    accuracy                           0.92       124\n",
            "   macro avg       0.90      0.86      0.88       124\n",
            "weighted avg       0.92      0.92      0.92       124\n",
            "\n"
          ]
        }
      ],
      "source": [
        "import numpy as np\n",
        "from sklearn.model_selection import train_test_split, RandomizedSearchCV\n",
        "from sklearn.preprocessing import StandardScaler\n",
        "from xgboost import XGBClassifier\n",
        "from sklearn.metrics import accuracy_score, classification_report\n",
        "import warnings\n",
        "warnings.filterwarnings(\"ignore\", message=\"`use_label_encoder` is deprecated in 1.7.0.\")\n",
        "\n",
        "X_train, X_test, y_train, y_test = train_test_split(X_aug, y_aug, test_size=0.2, random_state=42)\n",
        "\n",
        "scaler = StandardScaler()\n",
        "X_train_scaled = scaler.fit_transform(X_train)\n",
        "X_test_scaled = scaler.transform(X_test)\n",
        "\n",
        "negative_count = np.sum(y_train == 0)\n",
        "positive_count = np.sum(y_train == 1)\n",
        "scale_pos_weight = negative_count / positive_count\n",
        "print(f\"Calculated scale_pos_weight: {scale_pos_weight:.2f}\")\n",
        "\n",
        "param_grid_expanded = {\n",
        "    'n_estimators': [100, 200, 300],\n",
        "    'max_depth': [5, 7, 9],\n",
        "    'learning_rate': [0.05, 0.1, 0.2],\n",
        "    'subsample': [0.8, 0.9, 1.0],\n",
        "    'colsample_bytree': [0.7, 0.8, 0.9],\n",
        "    'gamma': [0, 0.1, 0.2],\n",
        "    'min_child_weight': [1, 3, 5],\n",
        "    'reg_alpha': [0, 0.1, 1],\n",
        "    'reg_lambda': [1, 1.5, 2]\n",
        "}\n",
        "\n",
        "xgb_model = XGBClassifier(\n",
        "    use_label_encoder=False,\n",
        "    eval_metric='logloss',\n",
        "    scale_pos_weight=scale_pos_weight,\n",
        "    tree_method='gpu_hist',\n",
        "    predictor='gpu_predictor',\n",
        "    verbosity=1\n",
        ")\n",
        "\n",
        "random_search = RandomizedSearchCV(\n",
        "    estimator=xgb_model,\n",
        "    param_distributions=param_grid_expanded,\n",
        "    n_iter=50,\n",
        "    scoring='accuracy',\n",
        "    cv=5,\n",
        "    n_jobs=1,\n",
        "    random_state=42\n",
        ")\n",
        "\n",
        "random_search.fit(X_train_scaled, y_train)\n",
        "\n",
        "print(\"Best Parameters (Randomized):\", random_search.best_params_)\n",
        "print(\"Best CV Accuracy (Randomized):\", random_search.best_score_)\n",
        "\n",
        "best_model = random_search.best_estimator_\n",
        "y_pred = best_model.predict(X_test_scaled)\n",
        "\n",
        "test_accuracy = accuracy_score(y_test, y_pred)\n",
        "print(\"Test Set Accuracy:\", test_accuracy)\n",
        "print(\"\\nClassification Report:\\n\", classification_report(y_test, y_pred))\n"
      ]
    },
    {
      "cell_type": "code",
      "source": [
        "label = 1 if CATEGORIES == 'abnormal' else 0\n"
      ],
      "metadata": {
        "id": "WhFiGIqyI59u"
      },
      "execution_count": 15,
      "outputs": []
    },
    {
      "cell_type": "code",
      "source": [
        "sample_audio = X_test_scaled[0].reshape(1, -1)\n",
        "predicted_prob = best_model.predict_proba(sample_audio)\n",
        "print(\"Predicted probabilities:\", predicted_prob)\n"
      ],
      "metadata": {
        "colab": {
          "base_uri": "https://localhost:8080/"
        },
        "id": "flQGFLYXJgNU",
        "outputId": "4a04d0a1-fbf0-4cd0-9f17-8571bd375848"
      },
      "execution_count": 16,
      "outputs": [
        {
          "output_type": "stream",
          "name": "stdout",
          "text": [
            "Predicted probabilities: [[0.00340074 0.99659926]]\n"
          ]
        }
      ]
    },
    {
      "cell_type": "code",
      "execution_count": null,
      "metadata": {
        "colab": {
          "base_uri": "https://localhost:8080/"
        },
        "id": "QRnqTJv5UKMI",
        "outputId": "4e920314-8ef7-4ba2-ba15-eadddec07564"
      },
      "outputs": [
        {
          "output_type": "stream",
          "name": "stdout",
          "text": [
            "SMOTE imported successfully!\n"
          ]
        }
      ],
      "source": [
        "from imblearn.over_sampling import SMOTE\n",
        "print(\"SMOTE imported successfully!\")\n"
      ]
    },
    {
      "cell_type": "code",
      "execution_count": 8,
      "metadata": {
        "colab": {
          "base_uri": "https://localhost:8080/"
        },
        "id": "5RsmyPx5JlRL",
        "outputId": "20b15a00-979f-4062-ca47-f926dcb77a61"
      },
      "outputs": [
        {
          "output_type": "stream",
          "name": "stdout",
          "text": [
            "Test Set Accuracy: 0.9193548387096774\n",
            "\n",
            "Classification Report:\n",
            "               precision    recall  f1-score   support\n",
            "\n",
            "           0       0.88      0.76      0.81        29\n",
            "           1       0.93      0.97      0.95        95\n",
            "\n",
            "    accuracy                           0.92       124\n",
            "   macro avg       0.90      0.86      0.88       124\n",
            "weighted avg       0.92      0.92      0.92       124\n",
            "\n"
          ]
        }
      ],
      "source": [
        "best_model = random_search.best_estimator_\n",
        "y_pred = best_model.predict(X_test_scaled)\n",
        "\n",
        "test_accuracy = accuracy_score(y_test, y_pred)\n",
        "print(\"Test Set Accuracy:\", test_accuracy)\n",
        "print(\"\\nClassification Report:\\n\", classification_report(y_test, y_pred))\n"
      ]
    },
    {
      "cell_type": "code",
      "execution_count": 9,
      "metadata": {
        "colab": {
          "base_uri": "https://localhost:8080/"
        },
        "id": "ZmAEGdqf7byK",
        "outputId": "a20baae0-66a4-4012-bdc2-67074d0b3a56"
      },
      "outputs": [
        {
          "output_type": "stream",
          "name": "stdout",
          "text": [
            "XGBoost Accuracy: 0.9193548387096774\n"
          ]
        }
      ],
      "source": [
        "from xgboost import XGBClassifier\n",
        "\n",
        "xgb_model = XGBClassifier()\n",
        "xgb_model.fit(X_train, y_train)\n",
        "\n",
        "y_pred_xgb = xgb_model.predict(X_test)\n",
        "print(\"XGBoost Accuracy:\", accuracy_score(y_test, y_pred_xgb))\n"
      ]
    },
    {
      "cell_type": "code",
      "source": [
        "from sklearn.ensemble import VotingClassifier\n",
        "from sklearn.ensemble import RandomForestClassifier\n",
        "from sklearn.svm import SVC\n",
        "\n",
        "best_xgb = random_search.best_estimator_\n",
        "rf_clf = RandomForestClassifier(n_estimators=200, random_state=42)\n",
        "svc_clf = SVC(probability=True, random_state=42)\n",
        "\n",
        "voting_clf = VotingClassifier(\n",
        "    estimators=[('xgb', best_xgb), ('rf', rf_clf), ('svc', svc_clf)],\n",
        "    voting='soft'\n",
        ")\n",
        "\n",
        "voting_clf.fit(X_train_scaled, y_train)\n",
        "y_pred_ensemble = voting_clf.predict(X_test_scaled)\n",
        "\n",
        "from sklearn.metrics import accuracy_score, classification_report\n",
        "print(\"Ensemble Test Accuracy:\", accuracy_score(y_test, y_pred_ensemble))\n",
        "print(\"\\nEnsemble Classification Report:\\n\", classification_report(y_test, y_pred_ensemble))\n"
      ],
      "metadata": {
        "colab": {
          "base_uri": "https://localhost:8080/"
        },
        "id": "9DFX5Y0E6IpN",
        "outputId": "c99a2743-ac8f-4d77-d567-de549881dcfd"
      },
      "execution_count": 10,
      "outputs": [
        {
          "output_type": "stream",
          "name": "stdout",
          "text": [
            "Ensemble Test Accuracy: 0.9193548387096774\n",
            "\n",
            "Ensemble Classification Report:\n",
            "               precision    recall  f1-score   support\n",
            "\n",
            "           0       0.91      0.72      0.81        29\n",
            "           1       0.92      0.98      0.95        95\n",
            "\n",
            "    accuracy                           0.92       124\n",
            "   macro avg       0.92      0.85      0.88       124\n",
            "weighted avg       0.92      0.92      0.92       124\n",
            "\n"
          ]
        }
      ]
    },
    {
      "cell_type": "code",
      "execution_count": 12,
      "metadata": {
        "colab": {
          "base_uri": "https://localhost:8080/"
        },
        "id": "q2MZFyx67g_j",
        "outputId": "de7d4f4c-357a-4019-8d00-27eebfcae3d6"
      },
      "outputs": [
        {
          "output_type": "stream",
          "name": "stdout",
          "text": [
            "Classification Report:\n",
            "               precision    recall  f1-score   support\n",
            "\n",
            "           0       0.95      0.69      0.80        29\n",
            "           1       0.91      0.99      0.95        95\n",
            "\n",
            "    accuracy                           0.92       124\n",
            "   macro avg       0.93      0.84      0.87       124\n",
            "weighted avg       0.92      0.92      0.91       124\n",
            "\n",
            "Confusion Matrix:\n",
            " [[20  9]\n",
            " [ 1 94]]\n"
          ]
        }
      ],
      "source": [
        "from sklearn.metrics import classification_report, confusion_matrix\n",
        "\n",
        "print(\"Classification Report:\\n\", classification_report(y_test, y_pred_xgb))\n",
        "print(\"Confusion Matrix:\\n\", confusion_matrix(y_test, y_pred_xgb))\n"
      ]
    },
    {
      "cell_type": "code",
      "execution_count": 13,
      "metadata": {
        "colab": {
          "base_uri": "https://localhost:8080/",
          "height": 907
        },
        "id": "FNX0jQvg7lpr",
        "outputId": "e3e87000-1750-4011-b065-c37e8a716492"
      },
      "outputs": [
        {
          "output_type": "display_data",
          "data": {
            "text/plain": [
              "<Figure size 640x480 with 1 Axes>"
            ],
            "image/png": "[encoded data removed]"
          },
          "metadata": {}
        },
        {
          "output_type": "display_data",
          "data": {
            "text/plain": [
              "<Figure size 640x480 with 2 Axes>"
            ],
            "image/png": "[encoded data removed]"
          },
          "metadata": {}
        }
      ],
      "source": [
        "import matplotlib.pyplot as plt\n",
        "\n",
        "plt.bar(range(len(xgb_model.feature_importances_)), xgb_model.feature_importances_)\n",
        "plt.title(\"Feature Importance\")\n",
        "plt.show()\n",
        "\n",
        "import seaborn as sns\n",
        "\n",
        "conf_matrix = confusion_matrix(y_test, y_pred_xgb)\n",
        "sns.heatmap(conf_matrix, annot=True, fmt='d', cmap='Blues')\n",
        "plt.title(\"Confusion Matrix\")\n",
        "plt.xlabel(\"Predicted\")\n",
        "plt.ylabel(\"Actual\")\n",
        "plt.show()\n"
      ]
    },
    {
      "cell_type": "code",
      "execution_count": null,
      "metadata": {
        "id": "OiC6gS1Y7ssz"
      },
      "outputs": [],
      "source": [
        "X_train_reshaped = X_train.reshape((X_train.shape[0], 1, X_train.shape[1]))\n",
        "X_test_reshaped = X_test.reshape((X_test.shape[0], 1, X_test.shape[1]))\n"
      ]
    }
  ],
  "metadata": {
    "colab": {
      "provenance": []
    },
    "kernelspec": {
      "display_name": "Python 3",
      "name": "python3"
    },
    "language_info": {
      "name": "python"
    }
  },
  "nbformat": 4,
  "nbformat_minor": 0
}